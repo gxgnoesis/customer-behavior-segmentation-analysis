{
 "cells": [
  {
   "cell_type": "markdown",
   "metadata": {
    "id": "iG4BEM2p2jzU"
   },
   "source": [
    "# **Customer Segmentation**\n",
    "by Gokul Ghate\n"
   ]
  },
  {
   "cell_type": "markdown",
   "metadata": {
    "id": "O5B66kN_5lH5"
   },
   "source": [
    "# Use Case\n",
    "\n",
    "- Use Case Summary\n",
    "- Objective Statement:\n",
    "  * Get business insight about how many product sold every month.\n",
    "  * Get business insight about how much customer spend their money every month.\n",
    "  * To reduce risk in deciding where, when, how, and to whom a product, service, or brand will be marketed.\n",
    "  * To increase marketing efficiency by directing effort specifically toward the designated segment in a manner consistent with that segment’s characteristics.\n",
    "\n",
    "- Challenges:\n",
    "  * Large size of data, can not maintain by excel spreadsheet.\n",
    "  * Need several coordination from each department.\n",
    "  * Demography data have a lot missing values and typo.\n",
    "\n",
    "- Methodology / Analytic Technique:\n",
    "  * Descriptive analysis\n",
    "  * Graph analysis\n",
    "  * Segment Analysis\n",
    "\n",
    "- Business Benefit:\n",
    "  * Helping Business Development Team to create product differentiation based on the characteristic for each customer.\n",
    "  * Know how to treat customer with specific criteria.\n",
    "\n",
    "- Expected Outcome:\n",
    "  * Know how many product sold every month.\n",
    "  * Know how much customer spend their money every month.\n",
    "  * Customer segmentation analysis.\n",
    "  * Recommendation based on customer segmentation.\n",
    "\n",
    "\n",
    "\n",
    "\n",
    "\n",
    "\n"
   ]
  },
  {
   "cell_type": "markdown",
   "metadata": {
    "id": "ro_hsF4X1_Vc"
   },
   "source": [
    "# Business Understanding\n",
    "\n",
    "- Retail is the process of selling consumer goods or services to customers through multiple channels of distribution to earn a profit.\n",
    "- This case has some business question using the data:\n",
    "- How many product sold every month?\n",
    "- How much customer spend their money every month?\n",
    "- How about Customer segmentation analysis?\n",
    "- How about recommendation based on customer segmentation?\n"
   ]
  },
  {
   "cell_type": "markdown",
   "metadata": {
    "id": "cwn-leuquXyb"
   },
   "source": [
    "# Data Understanding\n",
    "\n",
    "- Data of Retail Transaction from 01 December 2010 to 09 December 2011\n",
    "- Source Data: Online retail dataset by UCI Machine Learning Library. \n",
    "https://archive.ics.uci.edu/ml/datasets/Online+Retail\n",
    "- Data Dictionary:\n",
    "- InvoiceNo: Invoice number uniquely assigned to each transaction. \n",
    "- StockCode: Product (item) code.\n",
    "- Description: Product (item) name.\n",
    "- Quantity: The quantities of each product (item) per transaction. \n",
    "- InvoiceDate: The day and time when each transaction was generated.\n",
    "- UnitPrice: Product price per unit in sterling.\n",
    "- CustomerID: Customer number uniquely assigned to each customer.\n",
    "- Country: The name of the country where each customer resides.\n"
   ]
  },
  {
   "cell_type": "markdown",
   "metadata": {
    "id": "eG0QTkC33f_v"
   },
   "source": [
    "# Data preparation \n",
    "\n",
    "- Code Used:\n",
    "- Python Version: 3.7.6\n",
    "- Packages: Pandas, Numpy, Matplotlib, Seaborn, Sklearn, and Feature Engine \t\n"
   ]
  },
  {
   "cell_type": "code",
   "execution_count": null,
   "metadata": {
    "colab": {
     "base_uri": "https://localhost:8080/"
    },
    "id": "Hj3UQWl78rtC",
    "outputId": "0a8c72cf-3588-4ff3-9349-790d8db5db6f"
   },
   "outputs": [],
   "source": [
    "#Importing Packages\n",
    "\n",
    "! pip install feature_engine"
   ]
  },
  {
   "cell_type": "code",
   "execution_count": null,
   "metadata": {},
   "outputs": [],
   "source": [
    "pip install plotly==5.5.0"
   ]
  },
  {
   "cell_type": "code",
   "execution_count": null,
   "metadata": {
    "id": "N8EWVtTV9odg"
   },
   "outputs": [],
   "source": [
    "#Importing Packages\n",
    "\n",
    "import pandas as pd\n",
    "import numpy as np\n",
    "import matplotlib.pyplot as plt\n",
    "import seaborn as sns\n",
    "\n",
    "import datetime as dt\n",
    "from datetime import datetime as dt2\n",
    "from datetime import timedelta as td\n",
    "from datetime import time as tm\n",
    "\n",
    "from scipy import stats\n",
    "from sklearn.preprocessing import StandardScaler\n",
    "from sklearn.manifold import TSNE\n",
    "\n",
    "import plotly.offline as pyoff\n",
    "import plotly.graph_objs as go\n",
    "\n",
    "import feature_engine\n",
    "from feature_engine.outliers import Winsorizer\n",
    "\n",
    "from sklearn.cluster import KMeans\n",
    "from sklearn.cluster import AgglomerativeClustering\n",
    "import scipy.cluster.hierarchy as sch\n",
    "from sklearn.metrics import davies_bouldin_score\n",
    "\n",
    "import warnings\n",
    "warnings.filterwarnings(\"ignore\")"
   ]
  },
  {
   "cell_type": "code",
   "execution_count": null,
   "metadata": {
    "id": "shMx9uzS-lKF"
   },
   "outputs": [],
   "source": [
    "df = pd.read_excel('C:/Users/gokul/Desktop/Internship summer`22/Projects_on_github/Customer_segmentation/Customer-Segmentation-main/Online Retail.xlsx')"
   ]
  },
  {
   "cell_type": "code",
   "execution_count": null,
   "metadata": {
    "colab": {
     "base_uri": "https://localhost:8080/",
     "height": 204
    },
    "id": "_EQBmjZX-wdp",
    "outputId": "5e84770f-b495-4d18-fc2e-0416d51d3be7",
    "scrolled": true
   },
   "outputs": [],
   "source": [
    "#Check Dataset\n",
    "\n",
    "df.head()"
   ]
  },
  {
   "cell_type": "code",
   "execution_count": null,
   "metadata": {
    "colab": {
     "base_uri": "https://localhost:8080/"
    },
    "id": "LB3Y_b_L-33v",
    "outputId": "f3bd7979-f16e-407a-e4c3-efb0b9cd7498"
   },
   "outputs": [],
   "source": [
    "df.info()"
   ]
  },
  {
   "cell_type": "code",
   "execution_count": null,
   "metadata": {
    "colab": {
     "base_uri": "https://localhost:8080/",
     "height": 297
    },
    "id": "qUPiRpAW_zmx",
    "outputId": "9c2e4f1e-22e9-4a79-d145-8686779bca0d"
   },
   "outputs": [],
   "source": [
    "df.describe()"
   ]
  },
  {
   "cell_type": "markdown",
   "metadata": {
    "id": "xSnc5tDqwj1r"
   },
   "source": [
    "- The min and max value for Quantity is 80995, this could represent cancelled or returned orders.\n",
    "- The UnitPrice also have few negative values which is uncommon,these transactions could represent cancelled orders by customers or bad-debt incurred by the business.\n",
    "- Bad debt adjustments will be dropped from the dataset as these do not represent actual sales. \n",
    "- We need to clean the above values by removing from the dataset."
   ]
  },
  {
   "cell_type": "code",
   "execution_count": null,
   "metadata": {
    "colab": {
     "base_uri": "https://localhost:8080/"
    },
    "id": "FXejhpIf_3y3",
    "outputId": "afa35904-02a5-40a6-c123-5e0d8ece9295"
   },
   "outputs": [],
   "source": [
    "df.nunique()"
   ]
  },
  {
   "cell_type": "code",
   "execution_count": null,
   "metadata": {
    "colab": {
     "base_uri": "https://localhost:8080/"
    },
    "id": "u3LWqj9F_8l9",
    "outputId": "f63524d1-6b92-43c1-97d8-d09019c7b9f2"
   },
   "outputs": [],
   "source": [
    "df.isnull().sum()"
   ]
  },
  {
   "cell_type": "markdown",
   "metadata": {
    "id": "iTi6CF6pxM6A"
   },
   "source": [
    "There are almost 25% missing CustomerID. We need to remove them as there is no way we can get the number of CustomerID."
   ]
  },
  {
   "cell_type": "code",
   "execution_count": null,
   "metadata": {
    "colab": {
     "base_uri": "https://localhost:8080/"
    },
    "id": "LGmU68feACNW",
    "outputId": "5a11f241-bc62-4504-de94-5d365ef974bf"
   },
   "outputs": [],
   "source": [
    "#Country\n",
    "\n",
    "df.Country.value_counts(normalize=True) "
   ]
  },
  {
   "cell_type": "markdown",
   "metadata": {
    "id": "Jsnk9QjQxX3y"
   },
   "source": [
    "We can see that there is maximum proportion (More than 90% of customers) of 'United Kingdom' customers. So we will take 'United Kingdom' customer for our analysis."
   ]
  },
  {
   "cell_type": "code",
   "execution_count": null,
   "metadata": {
    "id": "T2jeLfyEAKHg"
   },
   "outputs": [],
   "source": [
    "df = df[df.Country == 'United Kingdom']"
   ]
  },
  {
   "cell_type": "markdown",
   "metadata": {
    "id": "eUYwKXtXyPiW"
   },
   "source": [
    "Removing the negative values from Quantity and UnitPrice"
   ]
  },
  {
   "cell_type": "code",
   "execution_count": null,
   "metadata": {
    "id": "POMy2DHAAOoU"
   },
   "outputs": [],
   "source": [
    "#Quantity\n",
    "\n",
    "df = df[df.Quantity > 0]"
   ]
  },
  {
   "cell_type": "code",
   "execution_count": null,
   "metadata": {
    "id": "HEww63JCATGR"
   },
   "outputs": [],
   "source": [
    "#InvoiceDate\n",
    "\n",
    "df['InvoiceDate'] = pd.to_datetime(df['InvoiceDate'])\n",
    "df['InvoiceYearMonth'] = df['InvoiceDate'].map(lambda date: 100*date.year + date.month)\n",
    "df['Date'] = df['InvoiceDate'].dt.strftime('%Y-%m')"
   ]
  },
  {
   "cell_type": "code",
   "execution_count": null,
   "metadata": {
    "colab": {
     "base_uri": "https://localhost:8080/"
    },
    "id": "3ZotUEMGzruO",
    "outputId": "5c471c0f-aead-4923-ed39-8d7aac00b4c9"
   },
   "outputs": [],
   "source": [
    "#timebound\n",
    "\n",
    "print(df[\"InvoiceDate\"].min())\n",
    "print(df[\"InvoiceDate\"].max())\n",
    "print(\"The data is from 1 year transaction\")"
   ]
  },
  {
   "cell_type": "code",
   "execution_count": null,
   "metadata": {
    "id": "470JFub3AaHA"
   },
   "outputs": [],
   "source": [
    "#UnitPrice\n",
    "\n",
    "df = df[df.UnitPrice > 0]"
   ]
  },
  {
   "cell_type": "markdown",
   "metadata": {
    "id": "QoG7GSHGyeh_"
   },
   "source": [
    "Removing the Null values from the data."
   ]
  },
  {
   "cell_type": "code",
   "execution_count": null,
   "metadata": {
    "id": "jgfl2EANAeh9"
   },
   "outputs": [],
   "source": [
    "#CustomerID\n",
    "\n",
    "df = df[pd.notnull(df['CustomerID'])]"
   ]
  },
  {
   "cell_type": "code",
   "execution_count": null,
   "metadata": {
    "colab": {
     "base_uri": "https://localhost:8080/"
    },
    "id": "pP7m2L1PAqYQ",
    "outputId": "53817de5-7482-4def-9f2c-15ebaecffd60"
   },
   "outputs": [],
   "source": [
    "df.info()"
   ]
  },
  {
   "cell_type": "markdown",
   "metadata": {
    "id": "wa3T7xflykiu"
   },
   "source": [
    "# Exploratory Data Analysis"
   ]
  },
  {
   "cell_type": "markdown",
   "metadata": {
    "id": "WBrgcWOby-HE"
   },
   "source": [
    "How many product sold every month?"
   ]
  },
  {
   "cell_type": "code",
   "execution_count": null,
   "metadata": {
    "colab": {
     "base_uri": "https://localhost:8080/"
    },
    "id": "HoJF91oSA0Cd",
    "outputId": "6024ccdf-c5ec-40f9-c848-7a80c3eb521e"
   },
   "outputs": [],
   "source": [
    "#Aggregating the Orders by Month\n",
    "\n",
    "df_agg= df.groupby(\"Date\").Quantity.sum()\n",
    "df_agg.head()"
   ]
  },
  {
   "cell_type": "code",
   "execution_count": null,
   "metadata": {
    "colab": {
     "base_uri": "https://localhost:8080/",
     "height": 204
    },
    "id": "1khn-rkPA5jX",
    "outputId": "14a0d8db-e91f-4b76-d89c-3450834242ba"
   },
   "outputs": [],
   "source": [
    "#converting series to dataframe and resetting index.\n",
    "\n",
    "df_agg=pd.DataFrame(df_agg)\n",
    "df_agg=df_agg.reset_index()\n",
    "df_agg.head()"
   ]
  },
  {
   "cell_type": "code",
   "execution_count": null,
   "metadata": {
    "id": "7pjIfRQmA-3j"
   },
   "outputs": [],
   "source": [
    "def plot_df(df, x, y, title=\"\", xlabel='Date', ylabel='Quantity', dpi=100):\n",
    "    plt.figure(figsize=(16,5), dpi=dpi)\n",
    "    plt.gca().set(title=title, xlabel=xlabel, ylabel=ylabel)\n",
    "    plt.plot(x, y, color='tab:Blue', marker='o')\n",
    "    plt.show()"
   ]
  },
  {
   "cell_type": "code",
   "execution_count": null,
   "metadata": {
    "colab": {
     "base_uri": "https://localhost:8080/",
     "height": 447
    },
    "id": "cBxUC4dXBJTW",
    "outputId": "65d2a67d-7e23-4892-c7cd-b1bfbb2137d1"
   },
   "outputs": [],
   "source": [
    "plot_df(df_agg, x=df_agg.Date, y=df_agg.Quantity,title='Orders in 2011')"
   ]
  },
  {
   "cell_type": "markdown",
   "metadata": {
    "id": "SHlfPAq_2kHb"
   },
   "source": [
    "How much customer spend their money every month?"
   ]
  },
  {
   "cell_type": "code",
   "execution_count": null,
   "metadata": {
    "id": "kPyJJy_kBT68"
   },
   "outputs": [],
   "source": [
    "#Calculating Revenue\n",
    "#Revenue = Order Count * Average Revenue per Order\n",
    "\n",
    "df['Revenue'] = df['Quantity']*df['UnitPrice']"
   ]
  },
  {
   "cell_type": "code",
   "execution_count": null,
   "metadata": {
    "colab": {
     "base_uri": "https://localhost:8080/",
     "height": 271
    },
    "id": "88v0YGDnBaTA",
    "outputId": "75c15f82-4a7c-4220-d9da-ae1066c6eaf1"
   },
   "outputs": [],
   "source": [
    "sns.boxplot(y=df['Revenue'])"
   ]
  },
  {
   "cell_type": "code",
   "execution_count": null,
   "metadata": {
    "colab": {
     "base_uri": "https://localhost:8080/"
    },
    "id": "hlw4HCvyB4zv",
    "outputId": "559f195c-e6b5-4a68-da48-ac0f83fb1947"
   },
   "outputs": [],
   "source": [
    "df.info()"
   ]
  },
  {
   "cell_type": "code",
   "execution_count": null,
   "metadata": {
    "colab": {
     "base_uri": "https://localhost:8080/",
     "height": 204
    },
    "id": "UnECp4I6B_GB",
    "outputId": "33681f4b-d954-43c0-b434-c3388593eb3a"
   },
   "outputs": [],
   "source": [
    "#Monthly Revenue\n",
    "\n",
    "df_revenue = df.groupby(['InvoiceYearMonth'])['Revenue'].sum().reset_index()\n",
    "df_revenue.head()"
   ]
  },
  {
   "cell_type": "code",
   "execution_count": null,
   "metadata": {
    "colab": {
     "base_uri": "https://localhost:8080/",
     "height": 542
    },
    "id": "pa4H4kh7CDfm",
    "outputId": "9ba6e82f-1617-4859-892d-a60e6f240ad0"
   },
   "outputs": [],
   "source": [
    "plot_data = [\n",
    "    go.Scatter(\n",
    "        x=df_revenue['InvoiceYearMonth'],\n",
    "        y=df_revenue['Revenue'],\n",
    "        mode='lines+markers'\n",
    "    )\n",
    "]\n",
    "\n",
    "plot_layout = go.Layout(\n",
    "        xaxis={\"type\": \"category\"},\n",
    "        title='Monthly Revenue'\n",
    "    )\n",
    "fig = go.Figure(data=plot_data, layout=plot_layout)\n",
    "pyoff.iplot(fig)"
   ]
  },
  {
   "cell_type": "markdown",
   "metadata": {
    "id": "dVtcLSom3NED"
   },
   "source": [
    "# RFM Analysis"
   ]
  },
  {
   "cell_type": "markdown",
   "metadata": {
    "id": "gtWowKIC3hNt"
   },
   "source": [
    "- Recency Frequency Monetary (RFM)\n",
    "\n",
    "- RFM analysis allows you to segment customers by the frequency and value of purchases and identify those customers who spend the most money.\n",
    "\n",
    "- Recency — how long it’s been since a customer bought something from us.\n",
    "- Frequency — how often a customer buys from us.\n",
    "- Monetary value — the total value of purchases a customer has made."
   ]
  },
  {
   "cell_type": "markdown",
   "metadata": {
    "id": "iCq7WLn_35yo"
   },
   "source": [
    "The last invoice date is 2011–12–09, we will use this date to calculate Recency."
   ]
  },
  {
   "cell_type": "code",
   "execution_count": null,
   "metadata": {
    "id": "cBzCQJMlCK2a"
   },
   "outputs": [],
   "source": [
    "NOW = dt.date(2011,12,9) \n",
    "df['Date'] = pd.DatetimeIndex(df.InvoiceDate).date"
   ]
  },
  {
   "cell_type": "code",
   "execution_count": null,
   "metadata": {
    "colab": {
     "base_uri": "https://localhost:8080/",
     "height": 204
    },
    "id": "JnZbLTdACh5n",
    "outputId": "0ea0a8f6-5b3d-46eb-b3e0-ac4d4931725a"
   },
   "outputs": [],
   "source": [
    "#Recency\n",
    "\n",
    "df_recency = df.groupby(['CustomerID'],as_index=False)['Date'].max()\n",
    "df_recency.columns = ['CustomerID','Last_Purchase_Date']\n",
    "\n",
    "df_recency['Recency'] = df_recency.Last_Purchase_Date.apply(lambda x:(NOW - x).days)\n",
    "df_recency.drop(columns=['Last_Purchase_Date'],inplace=True)\n",
    "df_recency.head()"
   ]
  },
  {
   "cell_type": "code",
   "execution_count": null,
   "metadata": {
    "colab": {
     "base_uri": "https://localhost:8080/",
     "height": 235
    },
    "id": "cxvEcL7cCnEu",
    "outputId": "22ed22cb-d3c0-49f5-9e50-f15565ef789c"
   },
   "outputs": [],
   "source": [
    "#Frequency - Monetary\n",
    "\n",
    "FM_Table = df.groupby('CustomerID').agg({'InvoiceNo'   : lambda x:len(x),\n",
    "                                         'Revenue'  : lambda x:x.sum()})\n",
    "FM_Table.rename(columns = {'InvoiceNo' :'Frequency',\n",
    "                           'Revenue':'Monetary'},inplace= True)\n",
    "FM_Table.head()"
   ]
  },
  {
   "cell_type": "code",
   "execution_count": null,
   "metadata": {
    "colab": {
     "base_uri": "https://localhost:8080/",
     "height": 204
    },
    "id": "_v8tTVCXCs0j",
    "outputId": "074e0062-dbcf-47fe-aaaf-b179ecc6c7e2"
   },
   "outputs": [],
   "source": [
    "RFM_Table = df_recency.merge(FM_Table,left_on='CustomerID',right_on='CustomerID')\n",
    "RFM_Table.head()"
   ]
  },
  {
   "cell_type": "code",
   "execution_count": null,
   "metadata": {
    "colab": {
     "base_uri": "https://localhost:8080/",
     "height": 269
    },
    "id": "RQW7RKJU45yZ",
    "outputId": "80540031-0e8a-4d6c-de3b-1e99153d220b"
   },
   "outputs": [],
   "source": [
    "#Heatmap check\n",
    "sns.heatmap(RFM_Table.corr(), annot=True);"
   ]
  },
  {
   "cell_type": "markdown",
   "metadata": {
    "id": "TGnlcqA54Qzf"
   },
   "source": [
    "# Modeling Data: RFM Quantiles"
   ]
  },
  {
   "cell_type": "markdown",
   "metadata": {
    "id": "9If_hO2t5xab"
   },
   "source": [
    "- Now we split the metrics into segments using quantiles. \n",
    "- We will assign a score from 1 to 4 to each Recency, Frequency and Monetary respectively. \n",
    "- 1 is the highest value, and 4 is the lowest value.\n",
    "- A final RFM score (Overall Value) is calculated simply by combining individual RFM score numbers."
   ]
  },
  {
   "cell_type": "code",
   "execution_count": null,
   "metadata": {
    "id": "ozeXzn0q5_BR"
   },
   "outputs": [],
   "source": [
    "quantiles = RFM_Table.quantile(q=[0.25,0.50,0.75])\n",
    "quantiles = quantiles.to_dict()"
   ]
  },
  {
   "cell_type": "code",
   "execution_count": null,
   "metadata": {
    "id": "k2Jsjf-86Dop"
   },
   "outputs": [],
   "source": [
    "segmented_rfm = RFM_Table.copy()"
   ]
  },
  {
   "cell_type": "code",
   "execution_count": null,
   "metadata": {
    "id": "kx74e_Qa6bFm"
   },
   "outputs": [],
   "source": [
    "def RScore(x,p,d):\n",
    "    if x <= d[p][0.25]:\n",
    "        return 1\n",
    "    elif x <= d[p][0.50]:\n",
    "        return 2\n",
    "    elif x <= d[p][0.75]: \n",
    "        return 3\n",
    "    else:\n",
    "        return 4\n",
    "    \n",
    "def FMScore(x,p,d):\n",
    "    if x <= d[p][0.25]:\n",
    "        return 4\n",
    "    elif x <= d[p][0.50]:\n",
    "        return 3\n",
    "    elif x <= d[p][0.75]: \n",
    "        return 2\n",
    "    else:\n",
    "        return 1"
   ]
  },
  {
   "cell_type": "code",
   "execution_count": null,
   "metadata": {
    "colab": {
     "base_uri": "https://localhost:8080/",
     "height": 204
    },
    "id": "7FoSREAl6NXQ",
    "outputId": "67546811-0dc5-4659-f5b5-08b2cf2161fd"
   },
   "outputs": [],
   "source": [
    "segmented_rfm['R_quartile'] = segmented_rfm['Recency'].apply(RScore, args=('Recency',quantiles))\n",
    "segmented_rfm['F_quartile'] = segmented_rfm['Frequency'].apply(FMScore, args=('Frequency',quantiles))\n",
    "segmented_rfm['M_quartile'] = segmented_rfm['Monetary'].apply(FMScore, args=('Monetary',quantiles))\n",
    "segmented_rfm.head()"
   ]
  },
  {
   "cell_type": "markdown",
   "metadata": {
    "id": "iPw9hKPD6kiR"
   },
   "source": [
    "Calculating the total RFM score combined.\n",
    "\n",
    "RFM_Score = R_quartile + F_quartile + M_quartile"
   ]
  },
  {
   "cell_type": "code",
   "execution_count": null,
   "metadata": {
    "id": "TUnu9KQE6evf"
   },
   "outputs": [],
   "source": [
    "segmented_rfm['RFM_Segment'] = segmented_rfm.R_quartile.map(str)+segmented_rfm.F_quartile.map(str)+segmented_rfm.M_quartile.map(str)"
   ]
  },
  {
   "cell_type": "code",
   "execution_count": null,
   "metadata": {
    "colab": {
     "base_uri": "https://localhost:8080/",
     "height": 204
    },
    "id": "ilRH9aCI7OID",
    "outputId": "a4db4a21-a33f-4c39-f967-5cbd9c551838"
   },
   "outputs": [],
   "source": [
    "segmented_rfm.head()"
   ]
  },
  {
   "cell_type": "code",
   "execution_count": null,
   "metadata": {
    "id": "GmJa3gfM7Tcj"
   },
   "outputs": [],
   "source": [
    "segmented_rfm['RFM_Score'] = segmented_rfm[['R_quartile','F_quartile','M_quartile']].sum(axis=1)"
   ]
  },
  {
   "cell_type": "code",
   "execution_count": null,
   "metadata": {
    "colab": {
     "base_uri": "https://localhost:8080/",
     "height": 204
    },
    "id": "uvUlyReL7YIa",
    "outputId": "50874b14-8ee8-4cbb-fd6d-c26f7b6ab50e"
   },
   "outputs": [],
   "source": [
    "segmented_rfm.head()"
   ]
  },
  {
   "cell_type": "code",
   "execution_count": null,
   "metadata": {
    "colab": {
     "base_uri": "https://localhost:8080/"
    },
    "id": "GDdmKzPm7dYr",
    "outputId": "1e50bd3b-dc15-4f55-fb9e-aa30d51911ab"
   },
   "outputs": [],
   "source": [
    "print(\"Best Customers: \",len(segmented_rfm[segmented_rfm['RFM_Segment']=='111']))\n",
    "print('Loyal Customers: ',len(segmented_rfm[segmented_rfm['F_quartile']==1]))\n",
    "print(\"Big Spenders: \",len(segmented_rfm[segmented_rfm['M_quartile']==1]))\n",
    "print('Almost Lost: ', len(segmented_rfm[segmented_rfm['RFM_Segment']=='134']))\n",
    "print('Lost Customers: ',len(segmented_rfm[segmented_rfm['RFM_Segment']=='344']))\n",
    "print('Lost Cheap Customers: ',len(segmented_rfm[segmented_rfm['RFM_Segment']=='444']))"
   ]
  },
  {
   "cell_type": "code",
   "execution_count": null,
   "metadata": {
    "id": "nlUsdJBvprbZ"
   },
   "outputs": [],
   "source": [
    "# Setting up the label for each client and adding the column \"Label\" to the dataframe\n",
    "\n",
    "label = [0] * len(segmented_rfm)\n",
    "\n",
    "for i in range(0,len(segmented_rfm)):\n",
    "\n",
    "    if segmented_rfm['RFM_Segment'][i] == '111':\n",
    "        label[i] = \"Best Customers\"\n",
    "        \n",
    "    elif segmented_rfm['RFM_Segment'][i] == '134' :\n",
    "        label[i] = \"Almost Lost\"\n",
    "        \n",
    "    elif segmented_rfm['RFM_Segment'][i] == '344':\n",
    "        label[i] = \"Lost Customers\"\n",
    "    \n",
    "    elif segmented_rfm['RFM_Segment'][i] == '444':\n",
    "        label[i] = \"Lost Cheap Customers\"\n",
    "\n",
    "    elif segmented_rfm['F_quartile'][i] == 1:\n",
    "        label[i] = \"Loyal Customers\"  \n",
    "    \n",
    "    elif segmented_rfm['M_quartile'][i] == 1:\n",
    "        label[i] = \"Big Spenders\"   \n",
    "        \n",
    "    else:\n",
    "        label[i] = \"Others\""
   ]
  },
  {
   "cell_type": "code",
   "execution_count": null,
   "metadata": {
    "id": "0O_y6EbRshAn"
   },
   "outputs": [],
   "source": [
    "# Adding the 'Label' column to our dataframe\n",
    "\n",
    "segmented_rfm['Label'] = label"
   ]
  },
  {
   "cell_type": "code",
   "execution_count": null,
   "metadata": {
    "colab": {
     "base_uri": "https://localhost:8080/"
    },
    "id": "v9jMxMg0tKXW",
    "outputId": "2fe00bee-36c3-4486-9443-975ee9a82b3e"
   },
   "outputs": [],
   "source": [
    "# Count the frequency that a value occurs in a dataframe column for the labels.\n",
    "\n",
    "segmented_rfm['Label'].value_counts()"
   ]
  },
  {
   "cell_type": "code",
   "execution_count": null,
   "metadata": {
    "colab": {
     "base_uri": "https://localhost:8080/",
     "height": 497
    },
    "id": "U_oLCVSYtaRt",
    "outputId": "5965b8d7-32ee-4966-a33b-878c03eacd1f"
   },
   "outputs": [],
   "source": [
    "import seaborn as sns\n",
    "sq1=segmented_rfm.groupby('Label')['CustomerID'].nunique().sort_values(ascending=False).reset_index()\n",
    "plt.figure(figsize=(12,8))\n",
    "sq1.drop([0],inplace=True)\n",
    "sns.barplot(data=sq1, x=\"Label\", y=\"CustomerID\", palette = \"Greens_d\");"
   ]
  },
  {
   "cell_type": "markdown",
   "metadata": {
    "id": "0h6IKx0v7v4C"
   },
   "source": [
    "# Modeling Data: K-Means Clustering\n",
    "\n",
    "K-Means clustering algorithm is an unsupervised machine learning algorithm that uses multiple iterations to segment the unlabeled data points into K different clusters in a way such that each data point belongs to only a single group that has similar properties."
   ]
  },
  {
   "cell_type": "code",
   "execution_count": null,
   "metadata": {
    "id": "13cd4cTkIJBV"
   },
   "outputs": [],
   "source": [
    "RFM_Table_New = RFM_Table.drop('CustomerID', axis=1)"
   ]
  },
  {
   "cell_type": "code",
   "execution_count": null,
   "metadata": {
    "colab": {
     "base_uri": "https://localhost:8080/",
     "height": 204
    },
    "id": "5YmVXIEdJJdv",
    "outputId": "aaab0f9f-622e-4470-9769-0ff48f1c05c5"
   },
   "outputs": [],
   "source": [
    "RFM_Table_New.head()"
   ]
  },
  {
   "cell_type": "code",
   "execution_count": null,
   "metadata": {
    "colab": {
     "base_uri": "https://localhost:8080/",
     "height": 269
    },
    "id": "k-vbQdvrGCpN",
    "outputId": "df6e8feb-14de-44a2-a415-0980a8404065"
   },
   "outputs": [],
   "source": [
    "#Heatmap check\n",
    "sns.heatmap(RFM_Table_New.corr(), annot=True);"
   ]
  },
  {
   "cell_type": "code",
   "execution_count": null,
   "metadata": {
    "colab": {
     "base_uri": "https://localhost:8080/",
     "height": 296
    },
    "id": "clrbZaDIGKkx",
    "outputId": "fb737b75-a42b-47f7-9a51-f519ca8da142"
   },
   "outputs": [],
   "source": [
    "#Analyze distribution\n",
    "\n",
    "sns.distplot(RFM_Table_New['Recency'])"
   ]
  },
  {
   "cell_type": "code",
   "execution_count": null,
   "metadata": {
    "colab": {
     "base_uri": "https://localhost:8080/",
     "height": 296
    },
    "id": "vaUpmgfkGcU3",
    "outputId": "3fb5de58-ab4c-451b-bb73-25e2b46a0a35"
   },
   "outputs": [],
   "source": [
    "sns.distplot(RFM_Table_New['Frequency'])"
   ]
  },
  {
   "cell_type": "code",
   "execution_count": null,
   "metadata": {
    "colab": {
     "base_uri": "https://localhost:8080/",
     "height": 296
    },
    "id": "4u2VotFtGipp",
    "outputId": "99b3e0b6-2f22-4937-f0ac-47cc2df7830c"
   },
   "outputs": [],
   "source": [
    "sns.distplot(RFM_Table_New['Monetary'])"
   ]
  },
  {
   "cell_type": "markdown",
   "metadata": {
    "id": "ACWpH7USKMen"
   },
   "source": [
    "- K-means gives the best result under the following conditions:\n",
    "- Data’s distribution is not skewed.\n",
    "- Data is standardised."
   ]
  },
  {
   "cell_type": "markdown",
   "metadata": {
    "id": "xgPJ2E71J1Jg"
   },
   "source": [
    "The data is highly skewed,therefore we will perform log transformations to reduce the skewness of each variable. I added a small constant as log transformation demands all the values to be positive."
   ]
  },
  {
   "cell_type": "code",
   "execution_count": null,
   "metadata": {
    "colab": {
     "base_uri": "https://localhost:8080/",
     "height": 204
    },
    "id": "IW2btvHyJ3x0",
    "outputId": "76816afa-fe9b-413e-9c41-9f0b8eb5b4a0"
   },
   "outputs": [],
   "source": [
    "df_rfm_log = RFM_Table_New.copy()\n",
    "df_rfm_log.head()"
   ]
  },
  {
   "cell_type": "code",
   "execution_count": null,
   "metadata": {
    "id": "8UifL3HpKVnm"
   },
   "outputs": [],
   "source": [
    "df_rfm_log = np.log(df_rfm_log+1)"
   ]
  },
  {
   "cell_type": "code",
   "execution_count": null,
   "metadata": {
    "colab": {
     "base_uri": "https://localhost:8080/"
    },
    "id": "9_eRv__wKq09",
    "outputId": "d7fc40b7-fe6f-4eb0-818f-a2371798a372"
   },
   "outputs": [],
   "source": [
    "windsoriser = Winsorizer(tail='both', # cap left, right or both tails \n",
    "                          fold=2,\n",
    "                           variables=[ 'Recency', 'Frequency', 'Monetary']\n",
    "                        )\n",
    "windsoriser.fit(df_rfm_log)"
   ]
  },
  {
   "cell_type": "code",
   "execution_count": null,
   "metadata": {
    "id": "Qgwgymq2K0ia"
   },
   "outputs": [],
   "source": [
    "df_rfm_log = windsoriser.transform(df_rfm_log)"
   ]
  },
  {
   "cell_type": "markdown",
   "metadata": {
    "id": "w_vtz53kojzw"
   },
   "source": [
    "Once the skewness is reduced, I standardised the data by centering and scaling. Note all the variables now have a mean of 0 and a standard deviation of 1."
   ]
  },
  {
   "cell_type": "code",
   "execution_count": null,
   "metadata": {
    "id": "mHRHdnCsK3oG"
   },
   "outputs": [],
   "source": [
    "#Developing preprocessing with StandardScaler\n",
    "\n",
    "scaler = StandardScaler()\n",
    "\n",
    "scaler.fit(df_rfm_log)\n",
    "\n",
    "RFM_Table_New_scaled = scaler.transform(df_rfm_log)"
   ]
  },
  {
   "cell_type": "code",
   "execution_count": null,
   "metadata": {
    "colab": {
     "base_uri": "https://localhost:8080/",
     "height": 204
    },
    "id": "VVV_36UdLFzk",
    "outputId": "b5db4286-a37d-4a92-914d-cd58a44e6018"
   },
   "outputs": [],
   "source": [
    "RFM_Table_New_scaled = pd.DataFrame(RFM_Table_New_scaled, columns=RFM_Table_New.columns)\n",
    "RFM_Table_New_scaled.head()"
   ]
  },
  {
   "cell_type": "code",
   "execution_count": null,
   "metadata": {
    "colab": {
     "base_uri": "https://localhost:8080/",
     "height": 296
    },
    "id": "lj-DHz0YPb25",
    "outputId": "9a5039de-bf2f-4a82-be02-68de0a0f488f",
    "scrolled": true
   },
   "outputs": [],
   "source": [
    "#Analyze distribution\n",
    "\n",
    "sns.distplot(RFM_Table_New_scaled['Recency'])"
   ]
  },
  {
   "cell_type": "code",
   "execution_count": null,
   "metadata": {
    "colab": {
     "base_uri": "https://localhost:8080/",
     "height": 296
    },
    "id": "K5c_tNksPi_8",
    "outputId": "d252047d-c1d2-4050-f261-f35fd4441819"
   },
   "outputs": [],
   "source": [
    "sns.distplot(RFM_Table_New_scaled['Frequency'])"
   ]
  },
  {
   "cell_type": "code",
   "execution_count": null,
   "metadata": {
    "colab": {
     "base_uri": "https://localhost:8080/",
     "height": 296
    },
    "id": "5u4ivjMRPnmn",
    "outputId": "49e48097-0c52-4e8e-d377-97bb82b48547"
   },
   "outputs": [],
   "source": [
    "sns.distplot(RFM_Table_New_scaled['Monetary'])"
   ]
  },
  {
   "cell_type": "markdown",
   "metadata": {
    "id": "qR78DPSGAvE1"
   },
   "source": [
    "Finding the optimal number of clusters"
   ]
  },
  {
   "cell_type": "code",
   "execution_count": null,
   "metadata": {
    "id": "545fqDle_ANX"
   },
   "outputs": [],
   "source": [
    "X = np.asarray(RFM_Table_New_scaled)"
   ]
  },
  {
   "cell_type": "code",
   "execution_count": null,
   "metadata": {
    "colab": {
     "base_uri": "https://localhost:8080/",
     "height": 295
    },
    "id": "81N3a2P4_Hwr",
    "outputId": "e8dee9a4-f14c-4daa-f5c7-f07db495ca39"
   },
   "outputs": [],
   "source": [
    "Sum_of_squared_distances = []\n",
    "K = range(1,16)\n",
    "for k in K:\n",
    "    km = KMeans(n_clusters=k)\n",
    "    km = km.fit(X)\n",
    "    Sum_of_squared_distances.append(km.inertia_)\n",
    "\n",
    "plt.plot(K, Sum_of_squared_distances, 'bx-')\n",
    "plt.xlabel('k')\n",
    "plt.ylabel('Sum_of_squared_distances')\n",
    "plt.title('Elbow Method For Optimal k')\n",
    "plt.show()"
   ]
  },
  {
   "cell_type": "code",
   "execution_count": null,
   "metadata": {
    "id": "83huyZN5NP_x"
   },
   "outputs": [],
   "source": [
    "def kmeans(normalised_df_rfm, clusters_number, original_df_rfm):\n",
    "    \n",
    "    kmeans = KMeans(n_clusters = clusters_number, random_state = 1)\n",
    "    kmeans.fit(normalised_df_rfm)\n",
    "\n",
    "    # Extract cluster labels\n",
    "    cluster_labels = kmeans.labels_\n",
    "        \n",
    "    # Create a cluster label column in original dataset\n",
    "    df_new = original_df_rfm.assign(Cluster = cluster_labels)\n",
    "    \n",
    "    # Initialise TSNE\n",
    "    model = TSNE(random_state=1)\n",
    "    transformed = model.fit_transform(df_new)\n",
    "    \n",
    "    # Plot t-SNE\n",
    "    plt.title('Flattened Graph of {} Clusters'.format(clusters_number))\n",
    "    sns.scatterplot(x=transformed[:,0], y=transformed[:,1], hue=cluster_labels, style=cluster_labels, palette=\"Set1\")\n",
    "    \n",
    "    return df_new"
   ]
  },
  {
   "cell_type": "code",
   "execution_count": null,
   "metadata": {
    "colab": {
     "base_uri": "https://localhost:8080/",
     "height": 729
    },
    "id": "P3qtCgz1N-Uc",
    "outputId": "a40fe9a8-1c5b-4bd7-bedb-3a3507773054"
   },
   "outputs": [],
   "source": [
    "plt.figure(figsize=(10, 10))\n",
    "\n",
    "plt.subplot(3, 1, 1)\n",
    "df_rfm_k3 = kmeans(RFM_Table_New_scaled, 3, RFM_Table)\n",
    "\n",
    "plt.subplot(3, 1, 2)\n",
    "df_rfm_k4 = kmeans(RFM_Table_New_scaled, 4, RFM_Table)\n",
    "\n",
    "plt.subplot(3, 1, 3)\n",
    "df_rfm_k5 = kmeans(RFM_Table_New_scaled, 5, RFM_Table)\n",
    "\n",
    "plt.tight_layout()\n"
   ]
  },
  {
   "cell_type": "code",
   "execution_count": null,
   "metadata": {
    "id": "L0Jd42TnQsjr"
   },
   "outputs": [],
   "source": [
    "def snake_plot(normalised_df_rfm, df_rfm_kmeans, df_rfm_original):\n",
    "\n",
    "    normalised_df_rfm = pd.DataFrame(normalised_df_rfm, \n",
    "                                       index=RFM_Table.index, \n",
    "                                       columns=RFM_Table.columns)\n",
    "    normalised_df_rfm['Cluster'] = df_rfm_kmeans['Cluster']\n",
    "\n",
    "    # Melt data into long format\n",
    "    df_melt = pd.melt(normalised_df_rfm.reset_index(), \n",
    "                        id_vars=['CustomerID', 'Cluster'],\n",
    "                        value_vars=['Recency', 'Frequency', 'Monetary'], \n",
    "                        var_name='Metric', \n",
    "                        value_name='Value')\n",
    "\n",
    "    plt.xlabel('Metric')\n",
    "    plt.ylabel('Value')\n",
    "    sns.pointplot(data=df_melt, x='Metric', y='Value', hue='Cluster')\n",
    "    \n",
    "    return"
   ]
  },
  {
   "cell_type": "code",
   "execution_count": null,
   "metadata": {
    "colab": {
     "base_uri": "https://localhost:8080/",
     "height": 657
    },
    "id": "FExdhbxnQw3d",
    "outputId": "b90194b8-a675-4bf7-9a2d-ea97d068e2f6"
   },
   "outputs": [],
   "source": [
    "plt.figure(figsize=(9, 9))\n",
    "\n",
    "plt.subplot(3, 1, 1)\n",
    "plt.title('Snake Plot of K-Means = 3')\n",
    "snake_plot(RFM_Table_New_scaled, df_rfm_k3, RFM_Table)\n",
    "\n",
    "plt.subplot(3, 1, 2)\n",
    "plt.title('Snake Plot of K-Means = 4')\n",
    "snake_plot(RFM_Table_New_scaled, df_rfm_k4, RFM_Table)\n",
    "\n",
    "plt.subplot(3, 1, 3)\n",
    "plt.title('Snake Plot of K-Means = 5')\n",
    "snake_plot(RFM_Table_New_scaled, df_rfm_k5, RFM_Table)\n",
    "\n",
    "plt.tight_layout()"
   ]
  },
  {
   "cell_type": "markdown",
   "metadata": {
    "id": "ucwrH4M5CsPK"
   },
   "source": [
    "# Evaluating Model: K-Means Clustering\n",
    "\n",
    "Davies Bouldin Score is a metric for evaluating clustering algorithms.\n",
    "The smaller Davies Bouldin Score is The more optimal the cluster.\n"
   ]
  },
  {
   "cell_type": "markdown",
   "metadata": {
    "id": "rXgXnqd-C2Dz"
   },
   "source": [
    "K-Means = 3"
   ]
  },
  {
   "cell_type": "code",
   "execution_count": null,
   "metadata": {
    "colab": {
     "base_uri": "https://localhost:8080/"
    },
    "id": "tPBkpMiAR2rs",
    "outputId": "40da3921-777c-4544-e9ce-a3423437299b"
   },
   "outputs": [],
   "source": [
    "kmeans = KMeans(n_clusters=3)\n",
    "kmeans.fit(X)"
   ]
  },
  {
   "cell_type": "code",
   "execution_count": null,
   "metadata": {
    "colab": {
     "base_uri": "https://localhost:8080/"
    },
    "id": "rcyjwk3lSVSR",
    "outputId": "ba9b9aa6-caa0-48e2-ff8c-0b9b5d3bf070"
   },
   "outputs": [],
   "source": [
    "print(davies_bouldin_score(X, kmeans.labels_))"
   ]
  },
  {
   "cell_type": "markdown",
   "metadata": {
    "id": "7Aa9oCWRC7iH"
   },
   "source": [
    "K-Means = 4"
   ]
  },
  {
   "cell_type": "code",
   "execution_count": null,
   "metadata": {
    "colab": {
     "base_uri": "https://localhost:8080/"
    },
    "id": "LJmpF02uSXOO",
    "outputId": "238d06e3-245f-4d98-bd01-14808def0609"
   },
   "outputs": [],
   "source": [
    "kmeans = KMeans(n_clusters=4)\n",
    "kmeans.fit(X)"
   ]
  },
  {
   "cell_type": "code",
   "execution_count": null,
   "metadata": {
    "colab": {
     "base_uri": "https://localhost:8080/"
    },
    "id": "78jSBIB8Slv2",
    "outputId": "534c0703-7bdf-489f-9185-152c8ae108ca"
   },
   "outputs": [],
   "source": [
    "print(davies_bouldin_score(X, kmeans.labels_))"
   ]
  },
  {
   "cell_type": "markdown",
   "metadata": {
    "id": "31-QUOu9DJx-"
   },
   "source": [
    "K-Means = 5"
   ]
  },
  {
   "cell_type": "code",
   "execution_count": null,
   "metadata": {
    "colab": {
     "base_uri": "https://localhost:8080/"
    },
    "id": "bL4XeHnxSw3v",
    "outputId": "bc5a0595-727e-46d5-db37-adc97aa88ac4"
   },
   "outputs": [],
   "source": [
    "kmeans = KMeans(n_clusters=5)\n",
    "kmeans.fit(X)"
   ]
  },
  {
   "cell_type": "code",
   "execution_count": null,
   "metadata": {
    "colab": {
     "base_uri": "https://localhost:8080/"
    },
    "id": "U3aGPcGkDQhN",
    "outputId": "18b1b220-0059-46ea-97bc-40608f7b07d4"
   },
   "outputs": [],
   "source": [
    "print(davies_bouldin_score(X, kmeans.labels_))"
   ]
  },
  {
   "cell_type": "markdown",
   "metadata": {
    "id": "_pFAO901R7Co"
   },
   "source": [
    "K-Means 4 clusters has lowest davies bouldin score than other cluster. Therefore the optimum cluster is 4."
   ]
  },
  {
   "cell_type": "code",
   "execution_count": null,
   "metadata": {
    "colab": {
     "base_uri": "https://localhost:8080/",
     "height": 204
    },
    "id": "muglBnmHfbWQ",
    "outputId": "3b3bddd7-dcfd-4754-ef9a-9de677a237cd"
   },
   "outputs": [],
   "source": [
    "df_rfm_k4.head()"
   ]
  },
  {
   "cell_type": "code",
   "execution_count": null,
   "metadata": {
    "colab": {
     "base_uri": "https://localhost:8080/"
    },
    "id": "Xdtr2EfvgbU3",
    "outputId": "f7d218b4-393c-49bb-92fd-eb6b79122fe6"
   },
   "outputs": [],
   "source": [
    "df_rfm_k4.Cluster.value_counts()"
   ]
  },
  {
   "cell_type": "code",
   "execution_count": null,
   "metadata": {
    "colab": {
     "base_uri": "https://localhost:8080/",
     "height": 497
    },
    "id": "wzzmOUSHfocH",
    "outputId": "6b89dfad-d094-4d00-8dfc-be083b7773db"
   },
   "outputs": [],
   "source": [
    "import seaborn as sns\n",
    "sq1=df_rfm_k4.groupby('Cluster')['CustomerID'].nunique().sort_values(ascending=False).reset_index()\n",
    "plt.figure(figsize=(12,8))\n",
    "sns.barplot(data=sq1, x=\"Cluster\", y=\"CustomerID\", palette = \"Greens_d\");"
   ]
  },
  {
   "cell_type": "markdown",
   "metadata": {
    "id": "hvDoTTN0V3hj"
   },
   "source": [
    "Interpretation of the clusters formed using k-means."
   ]
  },
  {
   "cell_type": "code",
   "execution_count": null,
   "metadata": {
    "id": "1w3-kIY1ViK4"
   },
   "outputs": [],
   "source": [
    "def rfm_values(df):\n",
    "\n",
    "    df_new = df.groupby(['Cluster']).agg({\n",
    "        'Recency': 'mean',\n",
    "        'Frequency': 'mean',\n",
    "        'Monetary': ['mean', 'count']\n",
    "    }).round(0)\n",
    "    \n",
    "    return df_new"
   ]
  },
  {
   "cell_type": "code",
   "execution_count": null,
   "metadata": {
    "colab": {
     "base_uri": "https://localhost:8080/",
     "height": 235
    },
    "id": "fCFPyYodV-Zp",
    "outputId": "a300b3a3-bf34-47eb-ae8a-d094cd026618"
   },
   "outputs": [],
   "source": [
    "rfm_values(df_rfm_k4)"
   ]
  },
  {
   "cell_type": "markdown",
   "metadata": {
    "id": "9jcPsXtZElQ7"
   },
   "source": [
    "- \"Cluster 0\" has 29% customers. It belongs to the \"Loyal Customers\" segment as they Haven’t purchased for some time, but used to purchase frequently (F=2) and spent a lot. (R=3, F=2, M=2)\n",
    "\n",
    "- \"Cluster 1\" has 20% customers. It can be interpreted as \"Alomost Lost\". They purchase recently (R=2). However they do not purchase frequently and do not spent a lot. (R=2, F=3, M=3)\n",
    "\n",
    "- \"Cluster 2\" has 30% customers. It can be interpreted as \"Lost Cheap Customers\". Their last purchase is long ago (R=4), purchased very few (F=4) and spent little (M=4). (R=4, F=4, M=4)\n",
    "\n",
    "- \"Cluster 3\" has 21% customers. It belongs to the \"Best Customers\" segment which we saw earlier as they purchase recently (R=1), frequent buyers (F=1), and spent the most (M=1). (R=1, F=1, M=1)"
   ]
  },
  {
   "cell_type": "markdown",
   "metadata": {
    "id": "x0GOjoffz9Fv"
   },
   "source": [
    "# Recommendation\n",
    "\n",
    "- Recommendation for “Best Customers\" segment:\n",
    "Focus on increasing customer purchases therefore it is necessary to form a cross/Up Selling Strategy.\n",
    "- Recommendation for “Loyal Customers\" segment:\n",
    "The business team must optimize the budget campaign and the time campaign for this customer segment in order to maintain their loyalty and increase their value.\n",
    "- Recommendation for “Almost Lost\" segment:\n",
    "This customer segment is very at risk for churn, so focus on activating customers and making repurchases by forming a Reactivation Strategy, Retention Strategy.\n",
    "- Recommendation for “Lost Cheap Customers\" segment:\n",
    "This customer segment has churned, so the focus of the campaign is to reactivate the customer by forming a Reactivation strategy.\n"
   ]
  }
 ],
 "metadata": {
  "colab": {
   "collapsed_sections": [],
   "name": "Suwarti - Final Project.ipynb",
   "provenance": []
  },
  "kernelspec": {
   "display_name": "Python 3",
   "language": "python",
   "name": "python3"
  },
  "language_info": {
   "codemirror_mode": {
    "name": "ipython",
    "version": 3
   },
   "file_extension": ".py",
   "mimetype": "text/x-python",
   "name": "python",
   "nbconvert_exporter": "python",
   "pygments_lexer": "ipython3",
   "version": "3.8.3"
  }
 },
 "nbformat": 4,
 "nbformat_minor": 1
}
